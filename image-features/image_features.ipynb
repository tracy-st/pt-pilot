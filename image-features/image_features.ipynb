{
 "cells": [
  {
   "cell_type": "code",
   "execution_count": 1,
   "metadata": {},
   "outputs": [],
   "source": [
    "import numpy as np\n",
    "import indicoio\n",
    "indicoio.config.api_key = 'API_KEY'"
   ]
  },
  {
   "cell_type": "code",
   "execution_count": 6,
   "metadata": {},
   "outputs": [],
   "source": [
    "from indicoio import image_features\n",
    "import json\n",
    "import imageio\n",
    "import skimage.io\n",
    "\n",
    "\n",
    "for i in range(42):\n",
    "    img = 'pngs/%s.png'%i\n",
    "    json_file_name = img + \"-features.json\"\n",
    "    \n",
    "    def store_json(json_input):\n",
    "        with open(json_file_name, \"a\") as f:\n",
    "            f.write(json_input)\n",
    "            f.write('\\n')\n",
    "\n",
    "    query = i\n",
    "    output = ''\n",
    "\n",
    "    array = skimage.io.imread(img)\n",
    "    arr = np.array(array)\n",
    "\n",
    "    response = indicoio.image_features(arr)\n",
    "    response = json.dumps(response, indent=3)\n",
    "    store_json(response)"
   ]
  },
  {
   "cell_type": "code",
   "execution_count": null,
   "metadata": {},
   "outputs": [],
   "source": [
    "import json\n",
    "import glob\n",
    "\n",
    "result = []                                         #list that will store the results of all Json \n",
    "for f in glob.glob(\"*.json\"):                       #here you will loop over multiple Json files\n",
    "    with open(f, \"rb\") as infile:                    \n",
    "        result.append(json.load(infile))            #here appending the list with Jason content \n",
    "\n",
    "with open(\"merged_file.json\", \"w\") as outfile:    #filling the resultant file with Jason content\n",
    "     json.dump(result, outfile)  "
   ]
  },
  {
   "cell_type": "code",
   "execution_count": 11,
   "metadata": {},
   "outputs": [],
   "source": []
  }
 ],
 "metadata": {
  "kernelspec": {
   "display_name": "Python 3",
   "language": "python",
   "name": "python3"
  },
  "language_info": {
   "codemirror_mode": {
    "name": "ipython",
    "version": 3
   },
   "file_extension": ".py",
   "mimetype": "text/x-python",
   "name": "python",
   "nbconvert_exporter": "python",
   "pygments_lexer": "ipython3",
   "version": "3.7.4"
  }
 },
 "nbformat": 4,
 "nbformat_minor": 2
}
